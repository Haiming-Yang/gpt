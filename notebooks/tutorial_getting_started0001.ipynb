{
 "cells": [
  {
   "cell_type": "code",
   "execution_count": 1,
   "metadata": {},
   "outputs": [],
   "source": [
    "import sys\n",
    "sys.path.append('../src/APL_to_python')\n",
    "from simple_algo_utils import *\n",
    "import numpy as np"
   ]
  },
  {
   "cell_type": "markdown",
   "metadata": {},
   "source": [
    "There will be minimal description here as this is supplementary to \"Get Started.docx\", where most of the descriptions are."
   ]
  },
  {
   "cell_type": "markdown",
   "metadata": {},
   "source": [
    "## CODE\n",
    "Python version of CODE from textbook p.198."
   ]
  },
  {
   "cell_type": "code",
   "execution_count": 2,
   "metadata": {},
   "outputs": [
    {
     "name": "stdout",
     "output_type": "stream",
     "text": [
      "[[ 2  8]\n",
      " [14 20]]\n"
     ]
    }
   ],
   "source": [
    "x = np.array(range(1,1+4)).reshape(2,2)\n",
    "y = np.array(range(1,1+4)).reshape(2,2)*2\n",
    "print(code_generator(x,y,4))"
   ]
  },
  {
   "cell_type": "markdown",
   "metadata": {},
   "source": [
    "## COMPENV\n",
    "Python version of COMPENV from textbook p.199. "
   ]
  },
  {
   "cell_type": "code",
   "execution_count": 3,
   "metadata": {},
   "outputs": [
    {
     "name": "stdout",
     "output_type": "stream",
     "text": [
      "GE\n",
      " [[ 1  2  3  4]\n",
      " [ 5  6  7  8]\n",
      " [ 9 10 11 12]\n",
      " [13 14 15 16]\n",
      " [17 18 19 20]\n",
      " [21 22 23 24]\n",
      " [25 26 27 28]\n",
      " [29 30 31 32]]\n",
      "CE\n",
      " [[1. 1. 1. 1. 1.]\n",
      " [1. 1. 1. 1. 1.]\n",
      " [1. 5. 1. 1. 1.]\n",
      " [1. 1. 1. 1. 1.]\n",
      " [1. 1. 1. 1. 1.]]\n",
      "\n",
      "ENV\n",
      "[[[ 3.  3.  3.  3.  3.]\n",
      "  [ 3. 19.  3.  3.  3.]\n",
      "  [ 3.  3.  3.  3.  3.]\n",
      "  [ 3.  3.  3.  3.  3.]\n",
      "  [ 3.  3.  3.  3.  3.]]\n",
      "\n",
      " [[ 4.  4.  4.  4.  4.]\n",
      "  [ 4.  4.  4.  4.  4.]\n",
      "  [20.  4.  4.  4.  4.]\n",
      "  [ 4.  4.  4.  4.  4.]\n",
      "  [ 4.  4.  4.  4.  4.]]\n",
      "\n",
      " [[ 1.  1.  1.  1.  1.]\n",
      "  [ 1.  1.  1.  1.  1.]\n",
      "  [ 1.  1.  1.  1.  1.]\n",
      "  [ 1. 17.  1.  1.  1.]\n",
      "  [ 1.  1.  1.  1.  1.]]\n",
      "\n",
      " [[ 2.  2.  2.  2.  2.]\n",
      "  [ 2.  2.  2.  2.  2.]\n",
      "  [ 2.  2. 18.  2.  2.]\n",
      "  [ 2.  2.  2.  2.  2.]\n",
      "  [ 2.  2.  2.  2.  2.]]]\n"
     ]
    }
   ],
   "source": [
    "Nj = 4\n",
    "L = 5\n",
    "J = np.array([ [1,0], [0,1], [-1,0], [0,-1]])\n",
    "GE = np.array(range(32)).reshape(8,4)+1\n",
    "CE = np.ones(shape=(L,L))\n",
    "CE[2,1]=5\n",
    "print('GE\\n',GE)\n",
    "print('CE\\n',CE)\n",
    "print('\\nENV')\n",
    "print(compenv(Nj, L, J, GE, CE))"
   ]
  },
  {
   "cell_type": "markdown",
   "metadata": {},
   "source": [
    "## GROWTH1\n",
    "Python version of COMPENV from textbook p.205. "
   ]
  },
  {
   "cell_type": "code",
   "execution_count": 4,
   "metadata": {},
   "outputs": [
    {
     "name": "stdout",
     "output_type": "stream",
     "text": [
      "ENV\n",
      " [[[0. 0. 0. 0. 0.]\n",
      "  [0. 2. 0. 0. 0.]\n",
      "  [0. 0. 0. 0. 0.]\n",
      "  [0. 0. 0. 0. 0.]\n",
      "  [0. 0. 0. 0. 0.]]\n",
      "\n",
      " [[0. 0. 0. 0. 0.]\n",
      "  [0. 0. 0. 0. 0.]\n",
      "  [0. 0. 2. 0. 0.]\n",
      "  [0. 0. 0. 0. 0.]\n",
      "  [0. 0. 0. 0. 0.]]\n",
      "\n",
      " [[0. 0. 0. 0. 0.]\n",
      "  [0. 0. 0. 0. 0.]\n",
      "  [0. 0. 0. 0. 0.]\n",
      "  [0. 0. 0. 0. 0.]\n",
      "  [0. 0. 0. 0. 0.]]\n",
      "\n",
      " [[0. 0. 0. 0. 0.]\n",
      "  [0. 0. 2. 0. 0.]\n",
      "  [0. 0. 0. 0. 0.]\n",
      "  [0. 0. 0. 0. 0.]\n",
      "  [0. 0. 0. 0. 0.]]]\n",
      "CE\n",
      " [[1. 1. 1. 1. 1.]\n",
      " [1. 1. 5. 1. 1.]\n",
      " [1. 1. 1. 1. 1.]\n",
      " [1. 1. 1. 1. 1.]\n",
      " [1. 1. 1. 1. 1.]]\n",
      "GROWTH1\n",
      "B\n",
      " [[1. 1. 1. 1. 1.]\n",
      " [1. 5. 5. 1. 1.]\n",
      " [1. 1. 6. 1. 1.]\n",
      " [1. 1. 1. 1. 1.]\n",
      " [1. 1. 1. 1. 1.]]\n",
      "age\n",
      " [[0. 0. 0. 0. 0.]\n",
      " [0. 0. 0. 0. 0.]\n",
      " [0. 0. 0. 0. 0.]\n",
      " [0. 0. 0. 0. 0.]\n",
      " [0. 0. 0. 0. 0.]]\n"
     ]
    }
   ],
   "source": [
    "nBSG = 4\n",
    "L = 5\n",
    "Nj = 4\n",
    "age = np.zeros(shape=(L,L))\n",
    "ENV = np.zeros(shape=(Nj,L,L))\n",
    "ENV[0,1,1] = ENV[1,2,2] = ENV[3,1,2] = 2\n",
    "CE = np.ones(shape=(L,L))\n",
    "CE[1,2]=5\n",
    "\n",
    "print('ENV\\n',ENV)\n",
    "print('CE\\n',CE)\n",
    "print('GROWTH1')\n",
    "B, age = growth1(CE, age, ENV, nBSG, Nj)\n",
    "print('B\\n',B)\n",
    "print('age\\n',age)"
   ]
  },
  {
   "cell_type": "markdown",
   "metadata": {},
   "source": [
    "## COMPNONZERO\n",
    "Python version of COMPENV from textbook p.200"
   ]
  },
  {
   "cell_type": "code",
   "execution_count": 5,
   "metadata": {},
   "outputs": [
    {
     "name": "stdout",
     "output_type": "stream",
     "text": [
      "[[0. 0. 2. 0. 0.]\n",
      " [2. 0. 0. 2. 0.]\n",
      " [0. 2. 0. 0. 2.]\n",
      " [0. 0. 2. 0. 0.]\n",
      " [2. 0. 0. 2. 0.]]\n"
     ]
    },
    {
     "data": {
      "text/plain": [
       "array([[0., 0., 2., 0., 0.],\n",
       "       [2., 0., 0., 2., 0.],\n",
       "       [0., 2., 0., 0., 2.],\n",
       "       [0., 0., 2., 0., 0.],\n",
       "       [2., 0., 0., 2., 0.]])"
      ]
     },
     "execution_count": 5,
     "metadata": {},
     "output_type": "execute_result"
    }
   ],
   "source": [
    "import numpy as np\n",
    "M = np.zeros(shape=(5,5))\n",
    "M[0,2] = M[1,0] = M[1,3] = 2\n",
    "M[2,1] = M[2,4] = 2\n",
    "M[3,2] = M[4,0] = M[4,3] = 2\n",
    "print(M)\n",
    "Z, V1, V2=compnonzero(M)\n",
    "Z"
   ]
  },
  {
   "cell_type": "code",
   "execution_count": 6,
   "metadata": {},
   "outputs": [
    {
     "name": "stdout",
     "output_type": "stream",
     "text": [
      "[[0. 1. 0.]\n",
      " [0. 1. 0.]\n",
      " [0. 1. 0.]\n",
      " [0. 1. 0.]]\n"
     ]
    },
    {
     "data": {
      "text/plain": [
       "array([[1.],\n",
       "       [1.],\n",
       "       [1.],\n",
       "       [1.]])"
      ]
     },
     "execution_count": 6,
     "metadata": {},
     "output_type": "execute_result"
    }
   ],
   "source": [
    "M = np.zeros(shape=(4,3))\n",
    "M[:,1] = 1\n",
    "print(M)\n",
    "Z, V1, V2=compnonzero(M)\n",
    "Z"
   ]
  },
  {
   "cell_type": "code",
   "execution_count": 7,
   "metadata": {},
   "outputs": [
    {
     "name": "stdout",
     "output_type": "stream",
     "text": [
      "[[3. 1. 0.]\n",
      " [0. 1. 0.]\n",
      " [0. 1. 0.]\n",
      " [0. 1. 0.]]\n"
     ]
    },
    {
     "data": {
      "text/plain": [
       "array([[3., 1.],\n",
       "       [0., 1.],\n",
       "       [0., 1.],\n",
       "       [0., 1.]])"
      ]
     },
     "execution_count": 7,
     "metadata": {},
     "output_type": "execute_result"
    }
   ],
   "source": [
    "M[0,0]=3\n",
    "print(M)\n",
    "Z, V1, V2=compnonzero(M)\n",
    "Z"
   ]
  },
  {
   "cell_type": "markdown",
   "metadata": {},
   "source": [
    "## DEVELOP\n",
    "Python version of DEVELOP from textbook p.200"
   ]
  },
  {
   "cell_type": "code",
   "execution_count": 8,
   "metadata": {
    "scrolled": false
   },
   "outputs": [
    {
     "name": "stdout",
     "output_type": "stream",
     "text": [
      "ITERATION:1\n",
      "After growth:\n",
      "A\n",
      "A\n",
      "A\n",
      "ITERATION:2\n",
      "After growth:\n",
      "A\n",
      "A\n",
      "A\n",
      "A\n",
      "A\n",
      "ITERATION:3\n",
      "After growth:\n",
      "A\n",
      "A\n",
      "A\n",
      "A\n",
      "A\n"
     ]
    }
   ],
   "source": [
    "L = 5\n",
    "age = np.zeros(shape=(L,L))\n",
    "CE = np.ones(shape=(L,L))\n",
    "CE[3,3]=5\n",
    "G0 = np.array([[0,0,0,0],[2,0,2,0]])\n",
    "nBSG = 4\n",
    "Nj = 4\n",
    "BSG=setBSG(nBSG, Nj)\n",
    "GE = setEXTG0(nBSG, G0, Nj, BSG)\n",
    "P = 1\n",
    "\n",
    "T_MAX = 3\n",
    "develop(T_MAX, \n",
    "    Nj, nBSG, L, J, GE, CE, age,\n",
    "    P, verbose=0)"
   ]
  }
 ],
 "metadata": {
  "kernelspec": {
   "display_name": "Python 3",
   "language": "python",
   "name": "python3"
  },
  "language_info": {
   "codemirror_mode": {
    "name": "ipython",
    "version": 3
   },
   "file_extension": ".py",
   "mimetype": "text/x-python",
   "name": "python",
   "nbconvert_exporter": "python",
   "pygments_lexer": "ipython3",
   "version": "3.6.8rc1"
  }
 },
 "nbformat": 4,
 "nbformat_minor": 2
}
