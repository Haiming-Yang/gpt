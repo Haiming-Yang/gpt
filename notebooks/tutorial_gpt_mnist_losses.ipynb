{
 "cells": [
  {
   "cell_type": "code",
   "execution_count": 1,
   "metadata": {},
   "outputs": [],
   "source": [
    "import os\n",
    "import numpy as np\n",
    "os.chdir(os.path.abspath('../')) # to gpt folder\n",
    "\n",
    "import torch\n",
    "import torch.nn as nn"
   ]
  },
  {
   "cell_type": "markdown",
   "metadata": {},
   "source": [
    "# For training and fine-tuning\n",
    "We want to see how do losses evolve as more pixels become correct. This is to decide the target losses we want to achieve."
   ]
  },
  {
   "cell_type": "code",
   "execution_count": 2,
   "metadata": {},
   "outputs": [],
   "source": [
    "batch_size=16\n",
    "device = torch.device(\"cuda:0\" if torch.cuda.is_available() else \"cpu\")"
   ]
  },
  {
   "cell_type": "code",
   "execution_count": 3,
   "metadata": {},
   "outputs": [],
   "source": [
    "from src.gpt_mnist.sampler import Pytorch_GPT_MNIST_Sampler\n",
    "samp = Pytorch_GPT_MNIST_Sampler(compenv_mode=None, growth_mode=None)"
   ]
  },
  {
   "cell_type": "code",
   "execution_count": 4,
   "metadata": {},
   "outputs": [
    {
     "name": "stdout",
     "output_type": "stream",
     "text": [
      "\n"
     ]
    }
   ],
   "source": [
    "from src.gpt_mnist.model import ResGPTNet34\n",
    "net = ResGPTNet34(nG0=samp.gen.nG0, Nj=samp.gen.N_neighbor)\n",
    "net.to(device=device)\n",
    "print('')"
   ]
  },
  {
   "cell_type": "code",
   "execution_count": 5,
   "metadata": {},
   "outputs": [
    {
     "name": "stdout",
     "output_type": "stream",
     "text": [
      "y0.shape: torch.Size([16])\n",
      "yg0.shape: torch.Size([16, 28, 28])\n",
      "ys0.shape: torch.Size([16, 28, 28])\n"
     ]
    }
   ],
   "source": [
    "x, y0, yg0, ys0 = samp.get_sample_batch_uniform_random(batch_size=batch_size, device=device)\n",
    "print('y0.shape:',y0.shape)\n",
    "print('yg0.shape:',yg0.shape)\n",
    "print('ys0.shape:',ys0.shape)"
   ]
  },
  {
   "cell_type": "code",
   "execution_count": 6,
   "metadata": {},
   "outputs": [
    {
     "name": "stdout",
     "output_type": "stream",
     "text": [
      "y.shape: torch.Size([16, 10])\n",
      "yg.shape: torch.Size([16, 4, 28, 28])\n",
      "ys.shape: torch.Size([16, 8, 28, 28])\n"
     ]
    }
   ],
   "source": [
    "y, yg, ys = net(x)\n",
    "print('y.shape:',y.shape)\n",
    "print('yg.shape:',yg.shape)\n",
    "print('ys.shape:',ys.shape)"
   ]
  },
  {
   "cell_type": "markdown",
   "metadata": {},
   "source": [
    "## for y"
   ]
  },
  {
   "cell_type": "code",
   "execution_count": 7,
   "metadata": {},
   "outputs": [
    {
     "name": "stdout",
     "output_type": "stream",
     "text": [
      "before tensor(2.7760, device='cuda:0', grad_fn=<NllLossBackward>)\n",
      "after 0 2.5924909114837646\n",
      "after 1 2.510190963745117\n",
      "after 2 2.220311164855957\n",
      "after 3 2.0286989212036133\n",
      "after 4 1.9016348123550415\n",
      "after 5 1.662554383277893\n",
      "after 6 1.5309978723526\n",
      "after 7 1.3936432600021362\n",
      "after 8 1.250139832496643\n",
      "after 9 1.0544960498809814\n",
      "after 10 0.7858767509460449\n",
      "after 11 0.6200230121612549\n",
      "after 12 0.5138240456581116\n",
      "after 13 0.40636447072029114\n",
      "after 14 0.15562108159065247\n",
      "after 15 0.0\n"
     ]
    }
   ],
   "source": [
    "criterion = nn.CrossEntropyLoss(reduction='mean')\n",
    "class_pred_loss = criterion(y,y0)\n",
    "print('before',class_pred_loss)\n",
    "for i in range(batch_size):\n",
    "    y[i,y0[i]]+=100\n",
    "    class_pred_loss = criterion(y,y0)\n",
    "    print('after %s'%(str(i)),class_pred_loss.item())\n"
   ]
  },
  {
   "cell_type": "markdown",
   "metadata": {},
   "source": [
    "## for yg"
   ]
  },
  {
   "cell_type": "code",
   "execution_count": 8,
   "metadata": {
    "scrolled": false
   },
   "outputs": [
    {
     "name": "stdout",
     "output_type": "stream",
     "text": [
      "tensor(1.4170, device='cuda:0', grad_fn=<NllLoss2DBackward>)\n",
      "        6,  6 1.4028180837631226\n",
      "        6, 13 1.3937290906906128\n",
      "        6, 20 1.3931777477264404\n",
      "        6, 27 1.3926008939743042\n",
      "       13,  6 1.3785380125045776\n",
      "       13, 13 1.3779854774475098\n",
      "       13, 20 1.3774220943450928\n",
      "       13, 27 1.3768510818481445\n",
      "       20,  6 1.3627784252166748\n",
      "       20, 13 1.3622063398361206\n",
      "       20, 20 1.3616459369659424\n",
      "       20, 27 1.3610666990280151\n",
      "       27,  6 1.347006916999817\n",
      "       27, 13 1.3464280366897583\n",
      "       27, 20 1.3458528518676758\n",
      "       27, 27 1.3452743291854858\n",
      "after 0 1.3452742099761963\n",
      "        6,  6 0.16692522168159485\n",
      "        6, 13 0.16637453436851501\n",
      "        6, 20 0.165832057595253\n",
      "        6, 27 0.16525940597057343\n",
      "       13,  6 0.1332816183567047\n",
      "       13, 13 0.13273952901363373\n",
      "       13, 20 0.13216015696525574\n",
      "       13, 27 0.1315852701663971\n",
      "       20,  6 0.10812195390462875\n",
      "       20, 13 0.1075555831193924\n",
      "       20, 20 0.10699226707220078\n",
      "       20, 27 0.10641861706972122\n",
      "       27,  6 0.09235672652721405\n",
      "       27, 13 0.09177840501070023\n",
      "       27, 20 0.09119942784309387\n",
      "       27, 27 0.09061842411756516\n",
      "after 14 0.09061842411756516\n",
      "        6,  6 0.0764794573187828\n",
      "        6, 13 0.07591604441404343\n",
      "        6, 20 0.07535815238952637\n",
      "        6, 27 0.07478474080562592\n",
      "       13,  6 0.051418643444776535\n",
      "       13, 13 0.050873059779405594\n",
      "       13, 20 0.05030789598822594\n",
      "       13, 27 0.04973834753036499\n",
      "       20,  6 0.017338236793875694\n",
      "       20, 13 0.016798142343759537\n",
      "       20, 20 0.01624765247106552\n",
      "       20, 27 0.0156813096255064\n",
      "       27,  6 0.0017501794500276446\n",
      "       27, 13 0.0011630953522399068\n",
      "       27, 20 0.0005798826459795237\n",
      "       27, 27 0.0\n",
      "after 15 0.0\n"
     ]
    }
   ],
   "source": [
    "gc_weights = np.ones(shape=(samp.gen.nG0+1))\n",
    "gc_weights[0]= 1e-2\n",
    "gc_weights = torch.tensor(gc_weights).to(device=device).to(torch.float)\n",
    "\n",
    "criterion = nn.CrossEntropyLoss(reduction='mean', weight=gc_weights)\n",
    "gen_config_loss = criterion(yg, yg0)\n",
    "print(gen_config_loss)\n",
    "for i in range(batch_size):\n",
    "    for j in range(28):\n",
    "        for k in range(28):\n",
    "            yg[i,yg0[i,j,k],j,k]+=1000 \n",
    "            \n",
    "            midloss = criterion(yg, yg0)\n",
    "            if i>batch_size-3 or i==0:\n",
    "                if (k+1)%7==0 and (j+1)%7==0:\n",
    "                    print('      %3s,%3s'%(str(j),str(k)),midloss.item())\n",
    "    gen_config_loss = criterion(yg, yg0)\n",
    "    if i>batch_size-3 or i==0:\n",
    "        print('after %s'%(str(i)),gen_config_loss.item())"
   ]
  },
  {
   "cell_type": "markdown",
   "metadata": {},
   "source": [
    "## for ys"
   ]
  },
  {
   "cell_type": "code",
   "execution_count": 9,
   "metadata": {
    "scrolled": false
   },
   "outputs": [
    {
     "name": "stdout",
     "output_type": "stream",
     "text": [
      "tensor(2.1026, device='cuda:0', grad_fn=<NllLoss2DBackward>)\n",
      "        6,  6 2.0800485610961914\n",
      "        6, 13 2.0662407875061035\n",
      "        6, 20 2.0653350353240967\n",
      "        6, 27 2.06442928314209\n",
      "       13,  6 2.0417771339416504\n",
      "       13, 13 2.040858030319214\n",
      "       13, 20 2.0399444103240967\n",
      "       13, 27 2.0390334129333496\n",
      "       20,  6 2.0163612365722656\n",
      "       20, 13 2.015460252761841\n",
      "       20, 20 2.014561891555786\n",
      "       20, 27 2.0136618614196777\n",
      "       27,  6 1.9910122156143188\n",
      "       27, 13 1.9901154041290283\n",
      "       27, 20 1.989219307899475\n",
      "       27, 27 1.9883235692977905\n",
      "after 0 1.9883235692977905\n",
      "        6,  6 0.24443276226520538\n",
      "        6, 13 0.24352847039699554\n",
      "        6, 20 0.24263063073158264\n",
      "        6, 27 0.24172550439834595\n",
      "       13,  6 0.19366104900836945\n",
      "       13, 13 0.1927385777235031\n",
      "       13, 20 0.19181208312511444\n",
      "       13, 27 0.19088876247406006\n",
      "       20,  6 0.1682184934616089\n",
      "       20, 13 0.16732251644134521\n",
      "       20, 20 0.16642244160175323\n",
      "       20, 27 0.1655256599187851\n",
      "       27,  6 0.1428716480731964\n",
      "       27, 13 0.14197315275669098\n",
      "       27, 20 0.1410737782716751\n",
      "       27, 27 0.14017528295516968\n",
      "after 14 0.14017529785633087\n",
      "        6,  6 0.11761952191591263\n",
      "        6, 13 0.11671703308820724\n",
      "        6, 20 0.11581558734178543\n",
      "        6, 27 0.11490463465452194\n",
      "       13,  6 0.07920379191637039\n",
      "       13, 13 0.07828866690397263\n",
      "       13, 20 0.07737063616514206\n",
      "       13, 27 0.07645583152770996\n",
      "       20,  6 0.028114372864365578\n",
      "       20, 13 0.02721916139125824\n",
      "       20, 20 0.026318412274122238\n",
      "       20, 27 0.025408940389752388\n",
      "       27,  6 0.002689892426133156\n",
      "       27, 13 0.001790626090951264\n",
      "       27, 20 0.0008961443672887981\n",
      "       27, 27 0.0\n",
      "after 15 0.0\n"
     ]
    }
   ],
   "source": [
    "gt_weights = np.ones(shape=(samp.gen.N_neighbor))\n",
    "gt_weights[0]= 1e-2\n",
    "gt_weights = torch.tensor(gt_weights).to(device=device).to(torch.float)\n",
    "criterion = nn.CrossEntropyLoss(reduction='mean', weight=gt_weights)\n",
    "\n",
    "gen_transform_loss = criterion(ys, ys0)\n",
    "print(gen_transform_loss)\n",
    "for i in range(batch_size):\n",
    "    for j in range(28):\n",
    "        for k in range(28):\n",
    "            ys[i,ys0[i,j,k],j,k]+=1000 \n",
    "            midloss = criterion(ys, ys0)\n",
    "            if i>batch_size-3 or i==0:\n",
    "                if (k+1)%7==0 and (j+1)%7==0:\n",
    "                    print('      %3s,%3s'%(str(j),str(k)),midloss.item())\n",
    "    gen_transform_loss = criterion(ys, ys0)\n",
    "    if i>batch_size-3 or i==0:\n",
    "        print('after %s'%(str(i)),gen_transform_loss.item())"
   ]
  }
 ],
 "metadata": {
  "kernelspec": {
   "display_name": "Python 3",
   "language": "python",
   "name": "python3"
  },
  "language_info": {
   "codemirror_mode": {
    "name": "ipython",
    "version": 3
   },
   "file_extension": ".py",
   "mimetype": "text/x-python",
   "name": "python",
   "nbconvert_exporter": "python",
   "pygments_lexer": "ipython3",
   "version": "3.6.8rc1"
  }
 },
 "nbformat": 4,
 "nbformat_minor": 2
}
